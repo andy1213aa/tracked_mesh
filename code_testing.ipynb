{
 "cells": [
  {
   "cell_type": "code",
   "execution_count": 2,
   "metadata": {},
   "outputs": [
    {
     "name": "stderr",
     "output_type": "stream",
     "text": [
      "2023-04-26 20:39:11.727589: W tensorflow/compiler/xla/stream_executor/platform/default/dso_loader.cc:64] Could not load dynamic library 'libnvinfer.so.7'; dlerror: libnvinfer.so.7: cannot open shared object file: No such file or directory; LD_LIBRARY_PATH: :/usr/local/cuda-11.8/lib64:/usr/local/cuda-11.8/extras/CUPTI/lib64\n",
      "2023-04-26 20:39:11.728236: W tensorflow/compiler/xla/stream_executor/platform/default/dso_loader.cc:64] Could not load dynamic library 'libnvinfer_plugin.so.7'; dlerror: libnvinfer_plugin.so.7: cannot open shared object file: No such file or directory; LD_LIBRARY_PATH: :/usr/local/cuda-11.8/lib64:/usr/local/cuda-11.8/extras/CUPTI/lib64\n",
      "2023-04-26 20:39:11.728240: W tensorflow/compiler/tf2tensorrt/utils/py_utils.cc:38] TF-TRT Warning: Cannot dlopen some TensorRT libraries. If you would like to use Nvidia GPU with TensorRT, please make sure the missing libraries mentioned above are installed properly.\n"
     ]
    }
   ],
   "source": [
    "import jax\n",
    "import tensorflow as tf\n",
    "import ml_collections\n",
    "import numpy as np\n",
    "import os"
   ]
  },
  {
   "cell_type": "code",
   "execution_count": 3,
   "metadata": {},
   "outputs": [],
   "source": [
    "IMAGE_WIDTH  = 240\n",
    "IMAGE_HEIGHT = 320\n",
    "\n",
    "# IMAGE_WIDTH_RESIZE = 240\n",
    "# IMAGE_HEIGHT_RESIZE = 320\n",
    "\n",
    "NUM_VERTEX = 7306"
   ]
  },
  {
   "cell_type": "code",
   "execution_count": 4,
   "metadata": {},
   "outputs": [],
   "source": [
    "config = ml_collections.ConfigDict()\n",
    "config.model = 'Classic_CNN'\n",
    "config.dataset = 'multiface'\n",
    "config.image_size = (240, 320)\n",
    "config.num_epochs = 200\n",
    "config.warmup_epochs = 10\n",
    "config.batch_size = 1\n",
    "config.learning_rate = 0.0001\n",
    "config.log_every_steps = 1\n",
    "config.vertex = 7306\n",
    "config.num_train_steps = -1"
   ]
  },
  {
   "cell_type": "code",
   "execution_count": 5,
   "metadata": {},
   "outputs": [],
   "source": [
    "def readTFRECORD(tfrecord_pth: str,\n",
    "                 config: ml_collections.ConfigDict) -> tf.data:\n",
    "    AUTOTUNE = tf.data.experimental.AUTOTUNE\n",
    "    data_set = tf.data.TFRecordDataset(tfrecord_pth)\n",
    "    # data_set = data_set.repeat()\n",
    "    data_set = data_set.map(parse, num_parallel_calls=AUTOTUNE)\n",
    "\n",
    "    # data_set = data_set.shuffle(config.batch_size * 16,\n",
    "    #                             reshuffle_each_iteration=True)\n",
    "    data_batch = data_set.batch(config.batch_size, drop_remainder=True)\n",
    "    data_batch = data_batch.prefetch(buffer_size=AUTOTUNE)\n",
    "    return data_batch\n",
    "\n",
    "\n",
    "def parse(example_proto):\n",
    "    features = tf.io.parse_single_example(example_proto,\n",
    "                                          features={\n",
    "                                              'img':\n",
    "                                              tf.io.FixedLenFeature([],\n",
    "                                                                    tf.string),\n",
    "                                              'vtx':\n",
    "                                              tf.io.FixedLenFeature([],\n",
    "                                                                    tf.string)\n",
    "                                          })\n",
    "\n",
    "    img = features['img']\n",
    "    vtx = features['vtx']\n",
    "\n",
    "    img = tf.io.decode_raw(img, np.float32)\n",
    "    vtx = tf.io.decode_raw(vtx, np.float32)\n",
    "\n",
    "    img = tf.reshape(img, [IMAGE_HEIGHT, IMAGE_WIDTH, 3])\n",
    "    vtx = tf.reshape(vtx, [NUM_VERTEX, 3])\n",
    "    # img = tf.image.resize(img, [IMAGE_HEIGHT_RESIZE, IMAGE_WIDTH_RESIZE])\n",
    "\n",
    "    return {'img': img, 'vtx': vtx}"
   ]
  },
  {
   "cell_type": "code",
   "execution_count": 6,
   "metadata": {},
   "outputs": [],
   "source": [
    "ds = readTFRECORD('../training_data/test.tfrecord', config)"
   ]
  },
  {
   "cell_type": "code",
   "execution_count": 7,
   "metadata": {},
   "outputs": [
    {
     "name": "stdout",
     "output_type": "stream",
     "text": [
      "43608\n"
     ]
    }
   ],
   "source": [
    "n = 0\n",
    "for step, batch in enumerate(ds):\n",
    "    n += 1\n",
    "print(n)\n",
    "    "
   ]
  },
  {
   "cell_type": "code",
   "execution_count": 32,
   "metadata": {},
   "outputs": [],
   "source": [
    "import pickle\n",
    "with open('pca.pickle', 'rb') as f:\n",
    "    pca = pickle.load(f)"
   ]
  },
  {
   "cell_type": "code",
   "execution_count": null,
   "metadata": {},
   "outputs": [],
   "source": []
  },
  {
   "cell_type": "code",
   "execution_count": 42,
   "metadata": {},
   "outputs": [],
   "source": [
    "test160 = pca.transform(np.ones((1, 7306*3)))"
   ]
  },
  {
   "cell_type": "code",
   "execution_count": 43,
   "metadata": {},
   "outputs": [
    {
     "data": {
      "text/plain": [
       "(1, 21918)"
      ]
     },
     "execution_count": 43,
     "metadata": {},
     "output_type": "execute_result"
    }
   ],
   "source": [
    "pca.inverse_transform(test160).shape"
   ]
  },
  {
   "cell_type": "code",
   "execution_count": 46,
   "metadata": {},
   "outputs": [],
   "source": [
    "def is_number(s):\n",
    "    try:\n",
    "        float(s)\n",
    "        return True\n",
    "    except ValueError:\n",
    "        return False"
   ]
  },
  {
   "cell_type": "code",
   "execution_count": 47,
   "metadata": {},
   "outputs": [],
   "source": [
    "def load_obj(obj):\n",
    "    if not os.path.isfile(obj):\n",
    "        print('file {} does not exist'.format(obj))\n",
    "        return None, False\n",
    "    else:\n",
    "        with open(obj, 'r') as f:\n",
    "            vertices = []\n",
    "            for line in f:\n",
    "                if 'v' in line and 'vn' not in line and 'vt' not in line:\n",
    "                    v = [float(x) for x in list(filter(lambda x : is_number(x), line.split()))]\n",
    "                    vertices.append(v)\n",
    "                if 'f' in line:\n",
    "                    break\n",
    "            return np.array(vertices), True"
   ]
  },
  {
   "cell_type": "code",
   "execution_count": 76,
   "metadata": {},
   "outputs": [],
   "source": [
    "testobj, res = load_obj('014887.obj')\n",
    "tt = np.reshape(testobj, -1)"
   ]
  },
  {
   "cell_type": "code",
   "execution_count": 78,
   "metadata": {},
   "outputs": [],
   "source": [
    "pca_result = pca.inverse_transform(pca.transform(tt.reshape(1, -1)))"
   ]
  },
  {
   "cell_type": "code",
   "execution_count": 79,
   "metadata": {},
   "outputs": [
    {
     "data": {
      "text/plain": [
       "0.0010618314770611838"
      ]
     },
     "execution_count": 79,
     "metadata": {},
     "output_type": "execute_result"
    }
   ],
   "source": [
    "np.mean((pca_result - tt)**2)"
   ]
  },
  {
   "cell_type": "code",
   "execution_count": 3,
   "metadata": {},
   "outputs": [
    {
     "name": "stderr",
     "output_type": "stream",
     "text": [
      "/home/aaron/miniconda3/envs/mp/lib/python3.10/collections/__init__.py:479: RuntimeWarning: coroutine 'PyTreeCheckpointHandler.restore.<locals>._async_restore' was never awaited\n",
      "  class_namespace[name] = _tuplegetter(index, doc)\n",
      "RuntimeWarning: Enable tracemalloc to get the object allocation traceback\n"
     ]
    }
   ],
   "source": [
    "import pickle\n",
    "with open('pca.pickle', 'rb') as f:\n",
    "    pca = pickle.load(f)"
   ]
  },
  {
   "cell_type": "code",
   "execution_count": 4,
   "metadata": {},
   "outputs": [
    {
     "data": {
      "text/plain": [
       "array([[-4.33378044e-03,  4.26494951e-03,  6.33926427e-03, ...,\n",
       "        -1.25335203e-03, -2.45089633e-05,  6.42690610e-03],\n",
       "       [-4.37374027e-03, -6.39180335e-03,  1.76259194e-03, ...,\n",
       "        -1.26147674e-03, -7.01242814e-03, -1.48127880e-03],\n",
       "       [-7.17804718e-04, -8.61157791e-03,  4.69922923e-04, ...,\n",
       "        -4.82802711e-03, -7.64626562e-04,  2.32761633e-03],\n",
       "       ...,\n",
       "       [-1.21093707e-02, -2.65597648e-03, -1.40764652e-03, ...,\n",
       "         3.60290997e-03, -5.96249603e-03,  2.87710373e-04],\n",
       "       [-4.90938008e-03,  2.55283100e-03,  7.68611485e-03, ...,\n",
       "        -6.51520666e-04, -2.61720583e-04,  1.05745412e-04],\n",
       "       [-2.91406303e-03,  8.55824223e-04, -5.41514088e-03, ...,\n",
       "        -2.83441781e-03, -1.08104155e-02, -1.71855473e-02]])"
      ]
     },
     "execution_count": 4,
     "metadata": {},
     "output_type": "execute_result"
    }
   ],
   "source": [
    "pca.components_\n"
   ]
  },
  {
   "cell_type": "code",
   "execution_count": 6,
   "metadata": {},
   "outputs": [
    {
     "data": {
      "text/plain": [
       "array([-0.00433378,  0.00426495,  0.00633926, -0.00782745,  0.01085609])"
      ]
     },
     "execution_count": 6,
     "metadata": {},
     "output_type": "execute_result"
    }
   ],
   "source": [
    "pca.components_[0][:5]"
   ]
  },
  {
   "cell_type": "code",
   "execution_count": 19,
   "metadata": {},
   "outputs": [
    {
     "name": "stdout",
     "output_type": "stream",
     "text": [
      "51050\n"
     ]
    }
   ],
   "source": [
    "txt = ''\n",
    "total_lines = 0\n",
    "with open('/home/aaron/Desktop/multiface/6674443_GHS/geom/tracked_mesh/E001_Neutral_Eyes_Open/000220.obj', 'r') as f:\n",
    "    total_lines = len(f.readlines())\n",
    "    \n",
    "with open('/home/aaron/Desktop/multiface/6674443_GHS/geom/tracked_mesh/E001_Neutral_Eyes_Open/000220.obj', 'r') as f:\n",
    "    for _ in range(7306):\n",
    "        txt += f.readline()\n",
    "    for _ in range(7306, total_lines+1):\n",
    "        txt += f.readline()\n",
    "    print(total_lines)"
   ]
  },
  {
   "cell_type": "code",
   "execution_count": 20,
   "metadata": {},
   "outputs": [],
   "source": [
    "with open('test.obj', 'w') as w:\n",
    "    w.write(txt)"
   ]
  },
  {
   "cell_type": "code",
   "execution_count": 8,
   "metadata": {},
   "outputs": [
    {
     "name": "stdout",
     "output_type": "stream",
     "text": [
      "[ -69.61982   -23.542326  -63.486214 ...   27.195385  -80.319626\n",
      " -158.73085 ]\n"
     ]
    }
   ],
   "source": [
    "import numpy as np\n",
    "\n",
    "# 读取二进制文件\n",
    "with open('vert_mean.bin', 'rb') as f:\n",
    "    # 读取数据\n",
    "    data = f.read()\n",
    "\n",
    "# 解析数据\n",
    "vert_mean = np.frombuffer(data, dtype=np.float32)\n",
    "\n",
    "# 打印结果\n",
    "print(vert_mean)\n",
    "\n"
   ]
  },
  {
   "cell_type": "code",
   "execution_count": 6,
   "metadata": {},
   "outputs": [],
   "source": [
    "np.save('vert_mean.npy', vert_mean)"
   ]
  },
  {
   "cell_type": "code",
   "execution_count": 18,
   "metadata": {},
   "outputs": [],
   "source": [
    "import numpy as np\n",
    "\n",
    "# 读取二进制文件\n",
    "with open('vert_var.txt', 'r') as f:\n",
    "    # 读取数据\n",
    "    vert_var = f.read()\n",
    "    \n",
    "# 读取二进制文件\n",
    "with open('vert_mean.bin', 'rb') as f:\n",
    "    # 读取数据\n",
    "    data = f.read()\n",
    "\n",
    "# 解析数据\n",
    "vert_mean = np.frombuffer(data, dtype=np.float32)\n",
    "# print(type(vert_var))\n",
    "# # 解析数据\n",
    "# vert_meanANDvar = {'vert_mean': vert_mean, 'vert_var': np.float32(vert_var)}\n",
    "np.save('vert_mean.npy', vert_mean)\n",
    "np.save('vert_var.npy', np.float32(vert_var))\n",
    "# vert_var = np.frombuffer(data, dtype=np.float32)\n",
    "\n",
    "# # 打印结果\n",
    "# print(vert_var)\n"
   ]
  },
  {
   "cell_type": "code",
   "execution_count": 22,
   "metadata": {},
   "outputs": [
    {
     "data": {
      "text/plain": [
       "array([ -69.61982 ,  -23.542326,  -63.486214, ...,   27.195385,\n",
       "        -80.319626, -158.73085 ], dtype=float32)"
      ]
     },
     "execution_count": 22,
     "metadata": {},
     "output_type": "execute_result"
    }
   ],
   "source": [
    "np.load('../training_data/6674443_vert_mean.npy')"
   ]
  },
  {
   "cell_type": "code",
   "execution_count": 35,
   "metadata": {},
   "outputs": [],
   "source": [
    "from absl import logging\n",
    "from pathlib import Path\n",
    "\n",
    "def load_obj(pth):\n",
    "    def is_number(s):\n",
    "        try:\n",
    "            float(s)\n",
    "            return True\n",
    "        except ValueError:\n",
    "            return False\n",
    "\n",
    "    obj_pth = Path(pth)\n",
    "\n",
    "    if not obj_pth.exists:\n",
    "        logging.info(f'file {obj_pth} does not exist')\n",
    "        return None, False\n",
    "    else:\n",
    "        with open(obj_pth, 'r') as f:\n",
    "            vertices = []\n",
    "            for line in f:\n",
    "                if 'v' in line and 'vn' not in line and 'vt' not in line:\n",
    "\n",
    "                    v = [\n",
    "                        float(x) for x in list(\n",
    "                            filter(lambda x: is_number(x), line.split()))\n",
    "                    ]\n",
    "                    vertices.append(v)\n",
    "                if 'f' in line:\n",
    "                    break\n",
    "            return True, vertices\n",
    "# neutral face model  \n",
    "neutral_mesh = load_obj('../training_data/000220.obj')"
   ]
  },
  {
   "cell_type": "code",
   "execution_count": 33,
   "metadata": {},
   "outputs": [
    {
     "name": "stderr",
     "output_type": "stream",
     "text": [
      "2023-04-26 18:49:31.192611: I tensorflow/core/platform/cpu_feature_guard.cc:193] This TensorFlow binary is optimized with oneAPI Deep Neural Network Library (oneDNN) to use the following CPU instructions in performance-critical operations:  AVX2 AVX_VNNI FMA\n",
      "To enable them in other operations, rebuild TensorFlow with the appropriate compiler flags.\n",
      "2023-04-26 18:49:31.278253: I tensorflow/core/util/port.cc:104] oneDNN custom operations are on. You may see slightly different numerical results due to floating-point round-off errors from different computation orders. To turn them off, set the environment variable `TF_ENABLE_ONEDNN_OPTS=0`.\n",
      "2023-04-26 18:49:31.629493: W tensorflow/compiler/xla/stream_executor/platform/default/dso_loader.cc:64] Could not load dynamic library 'libnvinfer.so.7'; dlerror: libnvinfer.so.7: cannot open shared object file: No such file or directory; LD_LIBRARY_PATH: :/usr/local/cuda-11.8/lib64:/usr/local/cuda-11.8/extras/CUPTI/lib64\n",
      "2023-04-26 18:49:31.629762: W tensorflow/compiler/xla/stream_executor/platform/default/dso_loader.cc:64] Could not load dynamic library 'libnvinfer_plugin.so.7'; dlerror: libnvinfer_plugin.so.7: cannot open shared object file: No such file or directory; LD_LIBRARY_PATH: :/usr/local/cuda-11.8/lib64:/usr/local/cuda-11.8/extras/CUPTI/lib64\n",
      "2023-04-26 18:49:31.629765: W tensorflow/compiler/tf2tensorrt/utils/py_utils.cc:38] TF-TRT Warning: Cannot dlopen some TensorRT libraries. If you would like to use Nvidia GPU with TensorRT, please make sure the missing libraries mentioned above are installed properly.\n"
     ]
    }
   ],
   "source": [
    "import tensorflow as tf"
   ]
  },
  {
   "cell_type": "code",
   "execution_count": 37,
   "metadata": {},
   "outputs": [
    {
     "data": {
      "text/plain": [
       "<tf.Tensor: shape=(21918,), dtype=float64, numpy=\n",
       "array([ -48.10709381,   67.3655014 , 1010.23919678, ...,   38.6893692 ,\n",
       "        153.12652588, 1089.46984863])>"
      ]
     },
     "execution_count": 37,
     "metadata": {},
     "output_type": "execute_result"
    }
   ],
   "source": [
    "tf.convert_to_tensor(np.array(neutral_mesh[1]).flatten(), dtype=tf.float32)"
   ]
  },
  {
   "cell_type": "code",
   "execution_count": 39,
   "metadata": {},
   "outputs": [
    {
     "name": "stdout",
     "output_type": "stream",
     "text": [
      "((1, 2, 3),)\n",
      "(1, 2, 3)\n"
     ]
    }
   ],
   "source": [
    "a = (1, 2, 3)\n",
    "\n",
    "def test(*arg):\n",
    "    print(arg)\n",
    "    print(*arg)\n",
    "    \n",
    "test(a)"
   ]
  },
  {
   "cell_type": "code",
   "execution_count": 3,
   "metadata": {},
   "outputs": [],
   "source": [
    "# 7306*3 array\n",
    "vert_mean = np.load('../training_data/6674443_vert_mean.npy')\n",
    "# 1 float32\n",
    "vert_var = np.load('../training_data/6674443_vert_var.npy')\n",
    "\n",
    "\n",
    "def load_obj(pth):\n",
    "\n",
    "    def is_number(s):\n",
    "        try:\n",
    "            float(s)\n",
    "            return True\n",
    "        except ValueError:\n",
    "            return False\n",
    "\n",
    "    obj_pth = Path(pth)\n",
    "\n",
    "    if not obj_pth.exists:\n",
    "        logging.info(f'file {obj_pth} does not exist')\n",
    "        return None, False\n",
    "    else:\n",
    "        with open(obj_pth, 'r') as f:\n",
    "            vertices = []\n",
    "            for line in f:\n",
    "                if 'v' in line and 'vn' not in line and 'vt' not in line:\n",
    "\n",
    "                    v = [\n",
    "                        float(x) for x in list(\n",
    "                            filter(lambda x: is_number(x), line.split()))\n",
    "                    ]\n",
    "                    vertices.append(v)\n",
    "                if 'f' in line:\n",
    "                    break\n",
    "            return True, vertices\n",
    "        \n"
   ]
  },
  {
   "cell_type": "code",
   "execution_count": null,
   "metadata": {},
   "outputs": [],
   "source": [
    "neutral_mesh = tf.convert_to_tensor(np.array(load_obj('../training_data/000220.obj')[1]).flatten(), dtype=tf.float32)"
   ]
  },
  {
   "cell_type": "code",
   "execution_count": 114,
   "metadata": {},
   "outputs": [],
   "source": [
    "import ffmpeg\n",
    "import numpy as np\n",
    "import torch as th\n",
    "import cv2\n",
    "import matplotlib.pyplot as plt\n",
    " \n",
    "from pytorch3d.io import load_objs_as_meshes, load_obj\n",
    " \n",
    "from pytorch3d.structures import Meshes\n",
    "from pytorch3d.vis.plotly_vis import AxisArgs, plot_batch_individually, plot_scene\n",
    "from pytorch3d.vis.texture_vis import texturesuv_image_matplotlib\n",
    "from pytorch3d.renderer import (\n",
    "    look_at_view_transform,\n",
    "    FoVPerspectiveCameras, \n",
    "    PointLights, \n",
    "    DirectionalLights, \n",
    "    Materials, \n",
    "    RasterizationSettings, \n",
    "    MeshRenderer, \n",
    "    MeshRasterizer,  \n",
    "    SoftPhongShader,\n",
    "    TexturesUV,\n",
    "    TexturesVertex,\n",
    "    PerspectiveCameras,\n",
    "    Textures\n",
    ")\n",
    "from PIL import Image"
   ]
  },
  {
   "cell_type": "code",
   "execution_count": 2,
   "metadata": {},
   "outputs": [],
   "source": [
    "# 7306*3 array\n",
    "vert_mean = np.load('../training_data/6674443_vert_mean.npy')\n",
    "# 1 float32\n",
    "vert_var = np.load('../training_data/6674443_vert_var.npy')"
   ]
  },
  {
   "cell_type": "code",
   "execution_count": 164,
   "metadata": {},
   "outputs": [],
   "source": [
    "verts, faces_idx, _ = load_obj('../training_data/000220.obj')\n",
    "# verts = (verts.reshape(7306*3, ) - vert_mean) / vert_var\n",
    "# verts = verts.reshape(7306, 3)\n",
    "transform = [0.9759047,0.004041422 ,0.21815981 ,-275.5805,\n",
    "0.10419873 ,0.86982536 ,-0.4822307 ,456.9492,\n",
    "-0.19170985 ,0.49334317 ,0.84844553 ,191.94185]\n",
    "\n",
    "transform = [-0.6413242, 0.014517092, -0.76713264, 773.42,\n",
    "-0.7567478, 0.15304689, 0.6355387, -645.5726,\n",
    "0.12663344, 0.9881123, -0.0871669, 1268.4379]\n",
    "\n",
    "transform = np.array(transform).reshape((3, 4))"
   ]
  },
  {
   "cell_type": "code",
   "execution_count": 4,
   "metadata": {},
   "outputs": [],
   "source": [
    "import numpy as np\n",
    "\n",
    "# 3x4的Transform矩陣\n",
    "Transform = transform\n",
    "# 將3x4變換矩陣轉換為4x4的齊次變換矩陣\n",
    "# Transform_hom = np.vstack((Transform, [0, 0, 0, 1]))\n",
    "\n",
    "# 3D模型中每個頂點的坐標\n",
    "vertices = verts\n",
    "\n",
    "# 將每個頂點表示為齊次座標\n",
    "vertices_homogeneous = np.hstack((vertices, np.ones((len(vertices), 1))))\n"
   ]
  },
  {
   "cell_type": "code",
   "execution_count": 165,
   "metadata": {},
   "outputs": [],
   "source": [
    "\n",
    "R = transform[:3, :3]\n",
    "t = transform[:, 3]\n",
    "verts = ((R@verts.numpy().T).T + t)"
   ]
  },
  {
   "cell_type": "code",
   "execution_count": 29,
   "metadata": {},
   "outputs": [],
   "source": [
    "verts = verts.numpy()"
   ]
  },
  {
   "cell_type": "code",
   "execution_count": 30,
   "metadata": {},
   "outputs": [],
   "source": [
    "x_mid = np.min(verts[:, 0]) + (np.max(verts[:, 0]) - np.min(verts[:, 0]))/2\n",
    "y_mid = np.min(verts[:, 1]) + (np.max(verts[:, 1]) - np.min(verts[:, 1]))/2\n",
    "z_mid = np.min(verts[:, 2]) + (np.max(verts[:, 2]) - np.min(verts[:, 2]))/2"
   ]
  },
  {
   "cell_type": "code",
   "execution_count": 31,
   "metadata": {},
   "outputs": [],
   "source": [
    "verts[:, 0] = verts[:, 0] - x_mid\n",
    "verts[:, 1] = verts[:, 1] - y_mid\n",
    "verts[:, 2] = verts[:, 2] - z_mid"
   ]
  },
  {
   "cell_type": "code",
   "execution_count": 166,
   "metadata": {},
   "outputs": [],
   "source": [
    "verts = ((R@verts.numpy().T).T + t)"
   ]
  },
  {
   "cell_type": "code",
   "execution_count": 18,
   "metadata": {},
   "outputs": [
    {
     "data": {
      "text/plain": [
       "12.013567679641643"
      ]
     },
     "execution_count": 18,
     "metadata": {},
     "output_type": "execute_result"
    }
   ],
   "source": [
    "np.max(vertex[:, 2])"
   ]
  },
  {
   "cell_type": "code",
   "execution_count": 19,
   "metadata": {},
   "outputs": [
    {
     "data": {
      "text/plain": [
       "9.465311680555285"
      ]
     },
     "execution_count": 19,
     "metadata": {},
     "output_type": "execute_result"
    }
   ],
   "source": [
    "np.min(vertex[:, 2])"
   ]
  },
  {
   "cell_type": "code",
   "execution_count": 28,
   "metadata": {},
   "outputs": [
    {
     "data": {
      "text/plain": [
       "array([[-1.01862595e+02,  2.33643684e+01,  1.09153169e+03],\n",
       "       [-9.08799130e+01,  8.98084350e+01,  1.03114366e+03],\n",
       "       [-7.17707094e+01,  9.34943656e+01,  9.93807060e+02],\n",
       "       ...,\n",
       "       [ 2.28835433e+01,  7.72738203e+01,  1.16397623e+03],\n",
       "       [ 1.23732216e+01,  7.20824573e+01,  1.17456826e+03],\n",
       "       [ 4.74021333e-01,  6.87981109e+01,  1.18442447e+03]])"
      ]
     },
     "execution_count": 28,
     "metadata": {},
     "output_type": "execute_result"
    }
   ],
   "source": [
    "vertex"
   ]
  },
  {
   "cell_type": "code",
   "execution_count": 12,
   "metadata": {},
   "outputs": [
    {
     "name": "stderr",
     "output_type": "stream",
     "text": [
      "/home/aaron/miniconda3/envs/mp/lib/python3.10/site-packages/pytorch3d/io/obj_io.py:544: UserWarning: No mtl file provided\n",
      "  warnings.warn(\"No mtl file provided\")\n"
     ]
    }
   ],
   "source": [
    "verts, faces_idx, _ = load_obj('../training_data/topology.obj')"
   ]
  },
  {
   "cell_type": "code",
   "execution_count": 30,
   "metadata": {},
   "outputs": [
    {
     "data": {
      "text/plain": [
       "tensor([[ -48.1071,   67.3655, 1010.2392],\n",
       "        [ -18.8887,   95.4126,  929.3578],\n",
       "        [   7.3019,   80.2762,  900.0712],\n",
       "        ...,\n",
       "        [  65.3622,  150.5015, 1072.9222],\n",
       "        [  52.5336,  151.1689, 1082.1195],\n",
       "        [  38.6894,  153.1265, 1089.4698]])"
      ]
     },
     "execution_count": 30,
     "metadata": {},
     "output_type": "execute_result"
    }
   ],
   "source": [
    "verts"
   ]
  },
  {
   "cell_type": "code",
   "execution_count": 18,
   "metadata": {},
   "outputs": [
    {
     "data": {
      "text/plain": [
       "2.7128878"
      ]
     },
     "execution_count": 18,
     "metadata": {},
     "output_type": "execute_result"
    }
   ],
   "source": [
    "np.max(verts.numpy()[:, 1])\n"
   ]
  },
  {
   "cell_type": "code",
   "execution_count": 19,
   "metadata": {},
   "outputs": [
    {
     "data": {
      "text/plain": [
       "-3.7656791"
      ]
     },
     "execution_count": 19,
     "metadata": {},
     "output_type": "execute_result"
    }
   ],
   "source": [
    "np.min(verts.numpy()[:, 1])"
   ]
  },
  {
   "cell_type": "code",
   "execution_count": 34,
   "metadata": {},
   "outputs": [],
   "source": [
    "verts, faces_idx, _ = load_obj('../training_data/topology.obj')\n",
    "device='cuda:0'"
   ]
  },
  {
   "cell_type": "code",
   "execution_count": 35,
   "metadata": {},
   "outputs": [],
   "source": [
    "verts_rgb = th.ones_like(verts)[None] * th.Tensor([0.529, 0.807, 0.980])[None, None, :]  # (1, V, 3)"
   ]
  },
  {
   "cell_type": "code",
   "execution_count": 37,
   "metadata": {},
   "outputs": [
    {
     "data": {
      "text/plain": [
       "torch.Size([1, 7306, 3])"
      ]
     },
     "execution_count": 37,
     "metadata": {},
     "output_type": "execute_result"
    }
   ],
   "source": [
    "verts_rgb.shape"
   ]
  },
  {
   "cell_type": "code",
   "execution_count": 121,
   "metadata": {},
   "outputs": [
    {
     "ename": "AttributeError",
     "evalue": "'TexturesVertex' object has no attribute 'maps_padded'",
     "output_type": "error",
     "traceback": [
      "\u001b[0;31m---------------------------------------------------------------------------\u001b[0m",
      "\u001b[0;31mAttributeError\u001b[0m                            Traceback (most recent call last)",
      "Cell \u001b[0;32mIn[121], line 1\u001b[0m\n\u001b[0;32m----> 1\u001b[0m mesh\u001b[39m.\u001b[39;49mtextures\u001b[39m.\u001b[39;49mmaps_padded()\n",
      "\u001b[0;31mAttributeError\u001b[0m: 'TexturesVertex' object has no attribute 'maps_padded'"
     ]
    }
   ],
   "source": []
  },
  {
   "cell_type": "code",
   "execution_count": 115,
   "metadata": {},
   "outputs": [
    {
     "ename": "AttributeError",
     "evalue": "'TexturesVertex' object has no attribute 'maps_padded'",
     "output_type": "error",
     "traceback": [
      "\u001b[0;31m---------------------------------------------------------------------------\u001b[0m",
      "\u001b[0;31mAttributeError\u001b[0m                            Traceback (most recent call last)",
      "Cell \u001b[0;32mIn[115], line 9\u001b[0m\n\u001b[1;32m      7\u001b[0m texture_image \u001b[39m=\u001b[39m np\u001b[39m.\u001b[39marray(texture_image)[::\u001b[39m-\u001b[39m\u001b[39m1\u001b[39m, :, :]\u001b[39m.\u001b[39mcopy()  \u001b[39m# 上下翻轉並複製\u001b[39;00m\n\u001b[1;32m      8\u001b[0m texture_image \u001b[39m=\u001b[39m th\u001b[39m.\u001b[39mfrom_numpy(texture_image)\u001b[39m.\u001b[39mfloat() \u001b[39m/\u001b[39m \u001b[39m255.0\u001b[39m  \u001b[39m# 轉換為tensor\u001b[39;00m\n\u001b[0;32m----> 9\u001b[0m mesh\u001b[39m.\u001b[39;49mtextures\u001b[39m.\u001b[39;49mmaps_padded()[:, :, :texture_size, :texture_size] \u001b[39m=\u001b[39m texture_image\u001b[39m.\u001b[39mpermute(\u001b[39m2\u001b[39m, \u001b[39m0\u001b[39m, \u001b[39m1\u001b[39m)[\u001b[39mNone\u001b[39;00m]\n",
      "\u001b[0;31mAttributeError\u001b[0m: 'TexturesVertex' object has no attribute 'maps_padded'"
     ]
    }
   ],
   "source": [
    "texture_size = 1024\n",
    "mesh = load_objs_as_meshes(['../training_data/000220.obj'], texture_atlas_size=[texture_size, texture_size], device=device)\n",
    "mesh.textures = Textures(verts_rgb=th.ones_like(mesh.verts_packed().reshape((1, 7306, 3))))\n",
    "\n",
    "texture_image = Image.open('../test_data/000220.png')\n",
    "texture_image = texture_image.transpose(Image.FLIP_TOP_BOTTOM)  # 將圖像上下翻轉\n",
    "texture_image = np.array(texture_image)[::-1, :, :].copy()  # 上下翻轉並複製\n",
    "texture_image = th.from_numpy(texture_image).float() / 255.0  # 轉換為tensor\n",
    "mesh.textures.maps_padded()[:, :, :texture_size, :texture_size] = texture_image.permute(2, 0, 1)[None]\n"
   ]
  },
  {
   "cell_type": "code",
   "execution_count": 95,
   "metadata": {},
   "outputs": [
    {
     "data": {
      "text/plain": [
       "tensor([[ -48.1071,   67.3655, 1010.2392],\n",
       "        [ -18.8887,   95.4126,  929.3578],\n",
       "        [   7.3019,   80.2762,  900.0712],\n",
       "        ...,\n",
       "        [  65.3622,  150.5015, 1072.9222],\n",
       "        [  52.5336,  151.1689, 1082.1195],\n",
       "        [  38.6894,  153.1265, 1089.4698]], device='cuda:0')"
      ]
     },
     "execution_count": 95,
     "metadata": {},
     "output_type": "execute_result"
    }
   ],
   "source": [
    "mesh.verts_packed()"
   ]
  },
  {
   "cell_type": "code",
   "execution_count": 96,
   "metadata": {},
   "outputs": [
    {
     "data": {
      "text/plain": [
       "<pytorch3d.structures.meshes.Meshes at 0x7fab801c79a0>"
      ]
     },
     "execution_count": 96,
     "metadata": {},
     "output_type": "execute_result"
    }
   ],
   "source": [
    "verts = mesh.verts_packed()\n",
    "N = verts.shape[0]\n",
    "center = verts.mean(0)\n",
    "scale = max((verts - center).abs().max(0)[0])\n",
    "mesh.offset_verts_(-center)\n",
    "mesh.scale_verts_((1.0 / float(scale)))"
   ]
  },
  {
   "cell_type": "code",
   "execution_count": 98,
   "metadata": {},
   "outputs": [
    {
     "data": {
      "text/plain": [
       "torch.Size([7306, 3])"
      ]
     },
     "execution_count": 98,
     "metadata": {},
     "output_type": "execute_result"
    }
   ],
   "source": [
    "mesh.verts_packed().shape"
   ]
  },
  {
   "cell_type": "code",
   "execution_count": 88,
   "metadata": {},
   "outputs": [],
   "source": [
    "verts, faces_idx, _ = load_obj('../training_data/000220.obj')"
   ]
  },
  {
   "cell_type": "code",
   "execution_count": 70,
   "metadata": {},
   "outputs": [],
   "source": [
    "verts, faces_idx, _ = load_obj('../training_data/000220.obj')\n",
    "device='cuda:0'\n",
    "verts_rgb = th.ones_like(verts)[None] * th.Tensor([0.529, 0.807, 0.980])[None, None, :]  # (1, V, 3)\n",
    "verts_rgb = verts_rgb.to(device)\n",
    "faces = faces_idx.verts_idx.to(device)[None, :, :]\n",
    "R, T = look_at_view_transform(0.1, 0, 180)\n",
    "focal = th.tensor([5.0], dtype=th.float32).to(device)\n",
    "princpt = th.tensor([0.1, 0.1], dtype=th.float32).to(device).unsqueeze(0)\n",
    "\n",
    "cameras = PerspectiveCameras(device=device, focal_length=focal, R=R, T=T, principal_point=princpt)\n",
    "raster_settings = RasterizationSettings(\n",
    "            image_size=[640, 480],\n",
    "            blur_radius=0.0,\n",
    "            faces_per_pixel=1,\n",
    "        )\n",
    "\n",
    "lights = PointLights(device=device, location=[[0.0, 0.0, -10]])\n",
    "verts = verts.reshape((1, -1, 3))\n",
    "verts = verts * 0.001\n",
    "textures = Textures(verts_rgb=verts_rgb.expand(verts.shape[0], -1, -1))\n",
    "\n",
    "mesh = Meshes(\n",
    "    verts=verts.to(device),\n",
    "    faces=faces.expand(verts.shape[0], -1, -1),\n",
    "    textures=textures\n",
    ")\n",
    "\n",
    "with th.no_grad():\n",
    "    renderer = MeshRenderer(\n",
    "        rasterizer=MeshRasterizer(\n",
    "            cameras=cameras,\n",
    "            raster_settings=raster_settings\n",
    "        ),\n",
    "        shader=SoftPhongShader(\n",
    "            device=device,\n",
    "            cameras=cameras,\n",
    "            lights=lights\n",
    "        )\n",
    "    )\n",
    "    images = renderer(mesh)"
   ]
  },
  {
   "cell_type": "code",
   "execution_count": 71,
   "metadata": {},
   "outputs": [
    {
     "data": {
      "text/plain": [
       "tensor([[[-0.0481,  0.0674,  1.0102],\n",
       "         [-0.0189,  0.0954,  0.9294],\n",
       "         [ 0.0073,  0.0803,  0.9001],\n",
       "         ...,\n",
       "         [ 0.0654,  0.1505,  1.0729],\n",
       "         [ 0.0525,  0.1512,  1.0821],\n",
       "         [ 0.0387,  0.1531,  1.0895]]])"
      ]
     },
     "execution_count": 71,
     "metadata": {},
     "output_type": "execute_result"
    }
   ],
   "source": [
    "verts"
   ]
  },
  {
   "cell_type": "code",
   "execution_count": 72,
   "metadata": {},
   "outputs": [
    {
     "data": {
      "text/plain": [
       "<matplotlib.image.AxesImage at 0x7fab8026a620>"
      ]
     },
     "execution_count": 72,
     "metadata": {},
     "output_type": "execute_result"
    },
    {
     "data": {
      "image/png": "[encoded data removed]",
      "text/plain": [
       "<Figure size 640x480 with 1 Axes>"
      ]
     },
     "metadata": {},
     "output_type": "display_data"
    }
   ],
   "source": [
    "img = 255*images.cpu().contiguous().numpy()\n",
    "img = img.astype('uint8')\n",
    "img = img[0, :, :, :3]\n",
    "plt.imshow(img)"
   ]
  },
  {
   "cell_type": "code",
   "execution_count": 95,
   "metadata": {},
   "outputs": [
    {
     "data": {
      "text/plain": [
       "True"
      ]
     },
     "execution_count": 95,
     "metadata": {},
     "output_type": "execute_result"
    }
   ],
   "source": [
    "cv2.imwrite('test.png', img)"
   ]
  },
  {
   "cell_type": "code",
   "execution_count": 85,
   "metadata": {},
   "outputs": [
    {
     "data": {
      "text/plain": [
       "<function imwrite>"
      ]
     },
     "execution_count": 85,
     "metadata": {},
     "output_type": "execute_result"
    }
   ],
   "source": [
    "cv2.imwrite"
   ]
  },
  {
   "cell_type": "code",
   "execution_count": 261,
   "metadata": {},
   "outputs": [],
   "source": [
    "    \n",
    "# 读取二进制文件\n",
    "with open('../training_data/000220.bin', 'rb') as f:\n",
    "    # 读取数据\n",
    "    data = f.read()"
   ]
  },
  {
   "cell_type": "code",
   "execution_count": 100,
   "metadata": {},
   "outputs": [],
   "source": [
    "verts = mesh.verts_packed()"
   ]
  },
  {
   "cell_type": "code",
   "execution_count": 129,
   "metadata": {},
   "outputs": [
    {
     "name": "stderr",
     "output_type": "stream",
     "text": [
      "/home/aaron/miniconda3/envs/mp/lib/python3.10/site-packages/pytorch3d/io/obj_io.py:544: UserWarning: No mtl file provided\n",
      "  warnings.warn(\"No mtl file provided\")\n"
     ]
    }
   ],
   "source": [
    "verts, faces, aux = load_obj('../test_data/000220.obj')"
   ]
  },
  {
   "cell_type": "code",
   "execution_count": 130,
   "metadata": {},
   "outputs": [
    {
     "data": {
      "text/plain": [
       "Properties(normals=None, verts_uvs=tensor([[0.3518, 0.4916],\n",
       "        [0.3586, 0.5064],\n",
       "        [0.3471, 0.5128],\n",
       "        ...,\n",
       "        [0.6662, 0.6382],\n",
       "        [0.6761, 0.6513],\n",
       "        [0.6772, 0.6545]]), material_colors=None, texture_images=None, texture_atlas=None)"
      ]
     },
     "execution_count": 130,
     "metadata": {},
     "output_type": "execute_result"
    }
   ],
   "source": [
    "aux"
   ]
  },
  {
   "cell_type": "code",
   "execution_count": 7,
   "metadata": {},
   "outputs": [
    {
     "data": {
      "text/plain": [
       "torch.Size([1, 1024, 1024, 3])"
      ]
     },
     "execution_count": 7,
     "metadata": {},
     "output_type": "execute_result"
    }
   ],
   "source": [
    "texture_image.expand((1, 1024, 1024, 3)).shape"
   ]
  },
  {
   "cell_type": "code",
   "execution_count": null,
   "metadata": {},
   "outputs": [],
   "source": [
    "verts = mesh.verts_packed()\n",
    "N = verts.shape[0]\n",
    "center = verts.mean(0)\n",
    "scale = max((verts - center).abs().max(0)[0])\n",
    "mesh.offset_verts_(-center)\n",
    "mesh.scale_verts_((1.0 / float(scale)));"
   ]
  },
  {
   "cell_type": "code",
   "execution_count": 168,
   "metadata": {},
   "outputs": [],
   "source": [
    "RR, TT = look_at_view_transform(3, 0, 180)"
   ]
  },
  {
   "cell_type": "code",
   "execution_count": 169,
   "metadata": {},
   "outputs": [
    {
     "data": {
      "text/plain": [
       "tensor([[[ 1.0000e+00, -0.0000e+00,  8.7423e-08],\n",
       "         [ 0.0000e+00,  1.0000e+00,  0.0000e+00],\n",
       "         [-8.7423e-08,  0.0000e+00,  1.0000e+00]]])"
      ]
     },
     "execution_count": 169,
     "metadata": {},
     "output_type": "execute_result"
    }
   ],
   "source": [
    "RR"
   ]
  },
  {
   "cell_type": "code",
   "execution_count": 111,
   "metadata": {},
   "outputs": [
    {
     "data": {
      "text/plain": [
       "tensor([[-0., -0., 3.]])"
      ]
     },
     "execution_count": 111,
     "metadata": {},
     "output_type": "execute_result"
    }
   ],
   "source": [
    "TT"
   ]
  },
  {
   "cell_type": "code",
   "execution_count": 146,
   "metadata": {},
   "outputs": [
    {
     "data": {
      "text/plain": [
       "tensor([[[ 0.9759,  0.0040,  0.2182],\n",
       "         [ 0.1042,  0.8698, -0.4822],\n",
       "         [-0.1917,  0.4933,  0.8484]]])"
      ]
     },
     "execution_count": 146,
     "metadata": {},
     "output_type": "execute_result"
    }
   ],
   "source": [
    "R"
   ]
  },
  {
   "cell_type": "code",
   "execution_count": 42,
   "metadata": {},
   "outputs": [
    {
     "data": {
      "text/plain": [
       "True"
      ]
     },
     "execution_count": 42,
     "metadata": {},
     "output_type": "execute_result"
    }
   ],
   "source": [
    "cameras.in_ndc()"
   ]
  },
  {
   "cell_type": "code",
   "execution_count": null,
   "metadata": {},
   "outputs": [],
   "source": []
  },
  {
   "cell_type": "code",
   "execution_count": 48,
   "metadata": {},
   "outputs": [
    {
     "data": {
      "text/plain": [
       "True"
      ]
     },
     "execution_count": 48,
     "metadata": {},
     "output_type": "execute_result"
    }
   ],
   "source": [
    "meshes.has_verts_normals()"
   ]
  },
  {
   "cell_type": "code",
   "execution_count": 46,
   "metadata": {},
   "outputs": [],
   "source": [
    "def get_ndc_fcl_prp(Ks):\n",
    "        ndc_fx = Ks[:, 0, 0] * 2 / 224.0\n",
    "        ndc_fy = Ks[:, 1, 1] * 2 / 224.0\n",
    "        ndc_px = - (Ks[:, 0, 2] - 112.0) * 2 / 224.0\n",
    "        ndc_py = - (Ks[:, 1, 2] - 112.0) * 2 / 224.0\n",
    "        focal_length = torch.stack([ndc_fx, ndc_fy], dim=-1)\n",
    "        principal_point = torch.stack([ndc_px, ndc_py], dim=-1)\n",
    "        return focal_length, principal_point"
   ]
  },
  {
   "cell_type": "code",
   "execution_count": 55,
   "metadata": {},
   "outputs": [
    {
     "data": {
      "text/plain": [
       "torch.Size([7306, 3])"
      ]
     },
     "execution_count": 55,
     "metadata": {},
     "output_type": "execute_result"
    }
   ],
   "source": [
    "verts.shape"
   ]
  },
  {
   "cell_type": "code",
   "execution_count": 56,
   "metadata": {},
   "outputs": [
    {
     "data": {
      "text/plain": [
       "tensor(118.0952, device='cuda:0')"
      ]
     },
     "execution_count": 56,
     "metadata": {},
     "output_type": "execute_result"
    }
   ],
   "source": [
    "torch.max(verts[:, 0])"
   ]
  },
  {
   "cell_type": "code",
   "execution_count": 60,
   "metadata": {},
   "outputs": [
    {
     "data": {
      "text/plain": [
       "tensor(-18.8887, device='cuda:0')"
      ]
     },
     "execution_count": 60,
     "metadata": {},
     "output_type": "execute_result"
    }
   ],
   "source": [
    "verts[1, 0]"
   ]
  },
  {
   "cell_type": "code",
   "execution_count": 61,
   "metadata": {},
   "outputs": [
    {
     "data": {
      "text/plain": [
       "tensor(-18.8887, device='cuda:0')"
      ]
     },
     "execution_count": 61,
     "metadata": {},
     "output_type": "execute_result"
    }
   ],
   "source": [
    "verts[1][0]"
   ]
  },
  {
   "cell_type": "code",
   "execution_count": 89,
   "metadata": {},
   "outputs": [],
   "source": [
    "def get_ndc(verts, znear, zfar):\n",
    "    \n",
    "    xmax = torch.max(verts[:, 0])\n",
    "    xmin = torch.min(verts[:, 0])\n",
    "    \n",
    "    ymax = torch.max(verts[:, 1])\n",
    "    ymin = torch.min(verts[:, 1])\n",
    "    \n",
    "    zmax = torch.max(verts[:, 2])\n",
    "    zmin = torch.min(verts[:, 2])\n",
    "    \n",
    "    # scale x, y value to range (-1, 1)\n",
    "    verts[:, 0] = ((verts[:, 0] - xmin) / (xmax-xmin)) * 2 -1\n",
    "    verts[:, 1] = ((verts[:, 1] - ymin) / (ymax-ymin)) * 2 -1\n",
    "    # verts[:, 0] = ((verts[:, 0] - xmin) / (xmax-xmin))*2 - 1 \n",
    "    # verts[:, 1] = ((verts[:, 1] - ymin) / (ymax-ymin))*2 - 1 \n",
    "    \n",
    "    # scale x value to given range (znear, zfar)\n",
    "    verts[:, 2] = ((verts[:, 2] - zmin) / (zmax-zmin)) * (zfar - znear) + znear\n",
    "    \n",
    "    return verts\n",
    "    \n",
    "    "
   ]
  },
  {
   "cell_type": "code",
   "execution_count": 90,
   "metadata": {},
   "outputs": [
    {
     "name": "stderr",
     "output_type": "stream",
     "text": [
      "/home/aaron/miniconda3/envs/mp/lib/python3.10/site-packages/pytorch3d/io/obj_io.py:544: UserWarning: No mtl file provided\n",
      "  warnings.warn(\"No mtl file provided\")\n"
     ]
    }
   ],
   "source": [
    "device='cuda:0'    \n",
    "verts, faces, aux = load_obj('../test_data/000220.obj')\n",
    "\n",
    "\n",
    "transform = [-0.6413242, 0.014517092, -0.76713264, 773.42,\n",
    "-0.7567478, 0.15304689, 0.6355387, -645.5726,\n",
    "0.12663344, 0.9881123, -0.0871669, 1268.4379]\n",
    "transform = np.array(transform).reshape((3, 4))\n",
    "R = transform[:3, :3]\n",
    "t = transform[:, 3]\n",
    "verts = ((R@verts.numpy().T).T + t)\n",
    "verts = torch.tensor(verts)\n",
    "verts_ndc = get_ndc(verts, 0, 100)"
   ]
  },
  {
   "cell_type": "code",
   "execution_count": 91,
   "metadata": {},
   "outputs": [
    {
     "data": {
      "text/plain": [
       "tensor(1., dtype=torch.float64)"
      ]
     },
     "execution_count": 91,
     "metadata": {},
     "output_type": "execute_result"
    }
   ],
   "source": [
    "torch.max(verts_ndc[: ,1])"
   ]
  },
  {
   "cell_type": "code",
   "execution_count": 92,
   "metadata": {},
   "outputs": [
    {
     "data": {
      "text/plain": [
       "tensor(-1., dtype=torch.float64)"
      ]
     },
     "execution_count": 92,
     "metadata": {},
     "output_type": "execute_result"
    }
   ],
   "source": [
    "torch.min(verts_ndc[: ,1])\n"
   ]
  },
  {
   "cell_type": "code",
   "execution_count": 88,
   "metadata": {},
   "outputs": [
    {
     "data": {
      "text/plain": [
       "tensor(100., dtype=torch.float64)"
      ]
     },
     "execution_count": 88,
     "metadata": {},
     "output_type": "execute_result"
    }
   ],
   "source": [
    "torch.max(verts_ndc[: ,2])"
   ]
  },
  {
   "cell_type": "code",
   "execution_count": 199,
   "metadata": {},
   "outputs": [
    {
     "data": {
      "text/plain": [
       "torch.Size([1])"
      ]
     },
     "execution_count": 199,
     "metadata": {},
     "output_type": "execute_result"
    }
   ],
   "source": [
    "focal[:, 0].shape"
   ]
  },
  {
   "cell_type": "code",
   "execution_count": 178,
   "metadata": {},
   "outputs": [],
   "source": [
    "verts, faces, aux = load_obj('../test_data/000220.obj')\n",
    "verts[:, 0] *= -1\n",
    "verts[:, 1] *= -1"
   ]
  },
  {
   "cell_type": "code",
   "execution_count": 218,
   "metadata": {},
   "outputs": [
    {
     "name": "stdout",
     "output_type": "stream",
     "text": [
      "tensor([[-1.0186e+02,  2.3364e+01,  1.0915e+03],\n",
      "        [-9.0880e+01,  8.9808e+01,  1.0311e+03],\n",
      "        [-7.1771e+01,  9.3494e+01,  9.9381e+02],\n",
      "        ...,\n",
      "        [ 2.2884e+01,  7.7274e+01,  1.1640e+03],\n",
      "        [ 1.2373e+01,  7.2082e+01,  1.1746e+03],\n",
      "        [ 4.7402e-01,  6.8798e+01,  1.1844e+03]])\n"
     ]
    }
   ],
   "source": [
    "import torch\n",
    "import numpy as np\n",
    "from pytorch3d.renderer import (\n",
    "    look_at_view_transform,\n",
    "    TexturesUV,\n",
    "    FoVPerspectiveCameras,\n",
    "    PointLights,\n",
    "    MeshRenderer,\n",
    "    RasterizationSettings,\n",
    "    MeshRasterizer,\n",
    "    SoftPhongShader,\n",
    "    BlendParams,\n",
    "    Textures,\n",
    "    PerspectiveCameras\n",
    "\n",
    ")\n",
    "import cv2\n",
    "import matplotlib.pyplot as plt\n",
    "from pytorch3d.structures import Meshes\n",
    "from PIL import Image\n",
    "from pytorch3d.io import load_objs_as_meshes, load_obj\n",
    "\n",
    "device='cuda:0'    \n",
    "verts, faces, aux = load_obj('../test_data/000220.obj')\n",
    "\n",
    "# verts = verts * 0.001\n",
    "\n",
    "verts_uvs = aux.verts_uvs[None, ...]  # (1, V, 2)\n",
    "faces_uvs = faces.textures_idx[None, ...]  # (1, F, 3)\n",
    "\n",
    "texture_image = Image.open(\"../test_data/000220.png\")\n",
    "texture_image = texture_image.transpose(Image.FLIP_TOP_BOTTOM)\n",
    "texture_image = np.array(texture_image)[::-1, :, :].copy()\n",
    "texture_image = torch.from_numpy(texture_image).float() / 255.0\n",
    "texture_image = texture_image.reshape((1, 1024, 1024, 3))\n",
    "\n",
    "tex = Textures(verts_uvs=verts_uvs, faces_uvs=faces_uvs, maps=texture_image)\n",
    "\n",
    "# transform world-coordinate to camera-coordinate\n",
    "# transform = [-0.6413242, 0.014517092, -0.76713264, 773.42,\n",
    "# -0.7567478, 0.15304689, 0.6355387, -645.5726,\n",
    "# 0.12663344, 0.9881123, -0.0871669, 1268.4379]\n",
    "\n",
    "transform = [0.9759047, 0.004041422, 0.21815981, -275.5805,\n",
    "0.10419873, 0.86982536, -0.4822307, 456.9492,\n",
    "-0.19170985, 0.49334317, 0.84844553, 191.94185]\n",
    "\n",
    "transform = np.array(transform).reshape((3, 4))\n",
    "R = transform[:3, :3]\n",
    "t = transform[:, 3]\n",
    "verts = torch.tensor(((R@verts.numpy().T).T + t), dtype=torch.float32)\n",
    "# verts[:, 0] *= -1\n",
    "# verts[:, 1] *= -1\n",
    "print(verts)\n",
    "# verts_ndc = get_ndc(verts, 0, 100)\n",
    "# transform camera-coordinate to NDC-coordinate\n",
    "\n",
    "\n",
    "\n",
    "meshes = Meshes(verts=[verts.to(device)], faces=[faces.verts_idx.to(device)], textures=tex.to(device))\n",
    "\n",
    "# We scale normalize and center the target mesh to fit in a sphere of radius 1 \n",
    "# centered at (0,0,0). (scale, center) will be used to bring the predicted mesh \n",
    "# to its original center and scale.  Note that normalizing the target mesh, \n",
    "# speeds up the optimization but is not necessary!\n",
    "\n",
    "# verts = meshes.verts_packed()\n",
    "# N = verts.shape[0]\n",
    "# center = verts.mean(0)\n",
    "# scale = max((verts - center).abs().max(0)[0])\n",
    "# meshes.offset_verts_(-center)\n",
    "# meshes.scale_verts_((1.0 / float(scale)))\n",
    "\n",
    "# 設置攝像機和照明\n",
    "\n",
    "focal = torch.tensor([7702.4736, 7703.745], dtype=torch.float32).to(device).unsqueeze(0)\n",
    "princpt = torch.tensor([801.6277, 997.59296], dtype=torch.float32).to(device).unsqueeze(0)\n",
    "\n",
    "cameras = PerspectiveCameras(device=device, focal_length=-focal, principal_point=princpt, in_ndc=False, image_size=((2048, 1334),))\n",
    "# cameras = PerspectiveCameras(device=device, focal_length=focal, principal_point=princpt)\n",
    "raster_settings = RasterizationSettings(\n",
    "            image_size=[2048, 1334],\n",
    "            blur_radius=0.0,\n",
    "            faces_per_pixel=1,\n",
    "        )\n",
    "\n",
    "lights = PointLights(device=device, location=[[0.0, 1.0, -10.0]])\n",
    "\n",
    "with torch.no_grad():\n",
    "    renderer = MeshRenderer(\n",
    "        rasterizer=MeshRasterizer(\n",
    "            cameras=cameras,\n",
    "            raster_settings=raster_settings\n",
    "        ),\n",
    "        shader=SoftPhongShader(\n",
    "            device=device,\n",
    "            cameras=cameras,\n",
    "            lights=lights\n",
    "        )\n",
    "    )\n",
    "    images = renderer(meshes, znear=0.0, zfar=1500.0)\n",
    "\n"
   ]
  },
  {
   "cell_type": "code",
   "execution_count": 221,
   "metadata": {},
   "outputs": [
    {
     "data": {
      "text/plain": [
       "<matplotlib.image.AxesImage at 0x7fe6c0d7a770>"
      ]
     },
     "execution_count": 221,
     "metadata": {},
     "output_type": "execute_result"
    },
    {
     "data": {
      "image/png": "[encoded data removed]",
      "text/plain": [
       "<Figure size 640x480 with 1 Axes>"
      ]
     },
     "metadata": {},
     "output_type": "display_data"
    }
   ],
   "source": [
    "img = 255*images.cpu().contiguous().numpy()\n",
    "img = img.astype('uint8')\n",
    "img = img[0, :, :, :3]\n",
    "cv2.imwrite('../test_data/test.png',cv2.cvtColor(img, cv2.COLOR_BGR2RGB))\n",
    "# img = cv2.rotate(img, cv2.ROTATE_180)\n",
    "plt.imshow(img)"
   ]
  },
  {
   "cell_type": "code",
   "execution_count": null,
   "metadata": {},
   "outputs": [],
   "source": []
  },
  {
   "cell_type": "code",
   "execution_count": null,
   "metadata": {},
   "outputs": [],
   "source": []
  },
  {
   "cell_type": "code",
   "execution_count": null,
   "metadata": {},
   "outputs": [],
   "source": []
  },
  {
   "cell_type": "code",
   "execution_count": null,
   "metadata": {},
   "outputs": [],
   "source": []
  },
  {
   "cell_type": "code",
   "execution_count": null,
   "metadata": {},
   "outputs": [],
   "source": []
  },
  {
   "cell_type": "code",
   "execution_count": 6,
   "metadata": {},
   "outputs": [
    {
     "data": {
      "text/plain": [
       "(tensor([[[ 1.0000e+00, -0.0000e+00,  8.7423e-08],\n",
       "          [ 0.0000e+00,  1.0000e+00,  0.0000e+00],\n",
       "          [-8.7423e-08,  0.0000e+00,  1.0000e+00]]]),\n",
       " tensor([[-0.0000, -0.0000, 2.5000]]))"
      ]
     },
     "execution_count": 6,
     "metadata": {},
     "output_type": "execute_result"
    }
   ],
   "source": [
    "look_at_view_transform(2.5, 0, 180)"
   ]
  },
  {
   "cell_type": "code",
   "execution_count": 117,
   "metadata": {},
   "outputs": [
    {
     "name": "stdout",
     "output_type": "stream",
     "text": [
      "tensor([[-0.3888,  0.2065,  0.2429],\n",
      "        [-0.2377,  0.3516, -0.1756],\n",
      "        [-0.1021,  0.2733, -0.3271],\n",
      "        ...,\n",
      "        [ 0.1983,  0.6366,  0.5673],\n",
      "        [ 0.1319,  0.6401,  0.6148],\n",
      "        [ 0.0603,  0.6502,  0.6529]], device='cuda:0')\n"
     ]
    },
    {
     "data": {
      "text/plain": [
       "<matplotlib.image.AxesImage at 0x7fe6c837b2b0>"
      ]
     },
     "execution_count": 117,
     "metadata": {},
     "output_type": "execute_result"
    },
    {
     "data": {
      "image/png": "[encoded data removed]",
      "text/plain": [
       "<Figure size 640x480 with 1 Axes>"
      ]
     },
     "metadata": {},
     "output_type": "display_data"
    }
   ],
   "source": [
    "import torch\n",
    "import numpy as np\n",
    "from pytorch3d.renderer import (\n",
    "    look_at_view_transform,\n",
    "    TexturesUV,\n",
    "    FoVPerspectiveCameras,\n",
    "    PointLights,\n",
    "    MeshRenderer,\n",
    "    RasterizationSettings,\n",
    "    MeshRasterizer,\n",
    "    SoftPhongShader,\n",
    "    BlendParams,\n",
    "    Textures,\n",
    "    PerspectiveCameras\n",
    "\n",
    ")\n",
    "import matplotlib.pyplot as plt\n",
    "from pytorch3d.structures import Meshes\n",
    "from PIL import Image\n",
    "from pytorch3d.io import load_objs_as_meshes, load_obj\n",
    "import cv2\n",
    "    \n",
    "verts, faces, aux = load_obj('../test_data/000220.obj')\n",
    "device='cuda:0'    \n",
    "# verts = verts * 0.001\n",
    "\n",
    "verts_uvs = aux.verts_uvs[None, ...]  # (1, V, 2)\n",
    "faces_uvs = faces.textures_idx[None, ...]  # (1, F, 3)\n",
    "\n",
    "texture_image = Image.open(\"../test_data/000220.png\")\n",
    "texture_image = texture_image.transpose(Image.FLIP_TOP_BOTTOM)\n",
    "texture_image = np.array(texture_image)[::-1, :, :].copy()\n",
    "texture_image = torch.from_numpy(texture_image).float() / 255.0\n",
    "texture_image = texture_image.reshape((1, 1024, 1024, 3))\n",
    "\n",
    "tex = Textures(verts_uvs=verts_uvs, faces_uvs=faces_uvs, maps=texture_image)\n",
    "\n",
    "meshes = Meshes(verts=[verts.to(device)], faces=[faces.verts_idx.to(device)], textures=tex.to(device))\n",
    "\n",
    "# We scale normalize and center the target mesh to fit in a sphere of radius 1 \n",
    "# centered at (0,0,0). (scale, center) will be used to bring the predicted mesh \n",
    "# to its original center and scale.  Note that normalizing the target mesh, \n",
    "# speeds up the optimization but is not necessary!\n",
    "verts = meshes.verts_packed()\n",
    "N = verts.shape[0]\n",
    "center = verts.mean(0)\n",
    "scale = max((verts - center).abs().max(0)[0])\n",
    "meshes.offset_verts_(-center)\n",
    "meshes.scale_verts_((1.0 / float(scale)))\n",
    "print(meshes.verts_packed())\n",
    "# 設置攝像機和照明\n",
    "R, T = look_at_view_transform(2.5, 0, 180)\n",
    "# R = [0.9759047, 0.004041422, 0.21815981,\n",
    "# 0.10419873, 0.86982536, -0.4822307, \n",
    "# -0.19170985, 0.49334317, 0.84844553 ]\n",
    "\n",
    "# T = [0, 0, 2.5]\n",
    "\n",
    "# R = torch.tensor(R).reshape((1, 3, 3))\n",
    "# T = torch.tensor(T).reshape((1, 3))\n",
    "focal = torch.tensor([3.0], dtype=torch.float32).to(device)\n",
    "princpt = torch.tensor([0.1, 0.1], dtype=torch.float32).to(device).unsqueeze(0)\n",
    "\n",
    "cameras = PerspectiveCameras(device=device, focal_length=focal, R=R, T=T, principal_point=princpt)\n",
    "raster_settings = RasterizationSettings(\n",
    "            image_size=[2048, 1334],\n",
    "            blur_radius=0.0,\n",
    "            faces_per_pixel=1,\n",
    " \n",
    "        )\n",
    "\n",
    "lights = PointLights(device=device, location=[[0.0, 0.0, -10.0]])\n",
    "\n",
    "with torch.no_grad():\n",
    "    renderer = MeshRenderer(\n",
    "        rasterizer=MeshRasterizer(\n",
    "            cameras=cameras,\n",
    "            raster_settings=raster_settings\n",
    "        ),\n",
    "        shader=SoftPhongShader(\n",
    "            device=device,\n",
    "            cameras=cameras,\n",
    "            lights=lights\n",
    "        )\n",
    "    )\n",
    "    images = renderer(meshes)\n",
    "    \n",
    "img = 255*images.cpu().contiguous().numpy()\n",
    "img = img.astype('uint8')\n",
    "img = img[0, :, :, :3]\n",
    "img = cv2.rotate(img, cv2.ROTATE_180)\n",
    "plt.imshow(img)"
   ]
  },
  {
   "cell_type": "code",
   "execution_count": 157,
   "metadata": {},
   "outputs": [
    {
     "data": {
      "text/plain": [
       "tensor([[-0.3888,  0.2065,  0.2429],\n",
       "        [-0.2377,  0.3516, -0.1756],\n",
       "        [-0.1021,  0.2733, -0.3271],\n",
       "        ...,\n",
       "        [ 0.1983,  0.6366,  0.5673],\n",
       "        [ 0.1319,  0.6401,  0.6148],\n",
       "        [ 0.0603,  0.6502,  0.6529]], device='cuda:0')"
      ]
     },
     "execution_count": 157,
     "metadata": {},
     "output_type": "execute_result"
    }
   ],
   "source": [
    "meshes.verts_packed()"
   ]
  },
  {
   "cell_type": "code",
   "execution_count": 155,
   "metadata": {},
   "outputs": [
    {
     "data": {
      "text/plain": [
       "tensor([[ -48.1071,   67.3655, 1010.2392],\n",
       "        [ -18.8887,   95.4126,  929.3578],\n",
       "        [   7.3019,   80.2762,  900.0712],\n",
       "        ...,\n",
       "        [  65.3622,  150.5015, 1072.9222],\n",
       "        [  52.5336,  151.1689, 1082.1195],\n",
       "        [  38.6894,  153.1265, 1089.4698]], device='cuda:0')"
      ]
     },
     "execution_count": 155,
     "metadata": {},
     "output_type": "execute_result"
    }
   ],
   "source": [
    "verts"
   ]
  },
  {
   "cell_type": "code",
   "execution_count": 179,
   "metadata": {},
   "outputs": [
    {
     "name": "stdout",
     "output_type": "stream",
     "text": [
      "51050\n"
     ]
    }
   ],
   "source": [
    "subject = '6674443'\n",
    "facial = 'E001_Neutral_Eyes_Open'\n",
    "view = '400008'\n",
    "idx = '000220'\n",
    "\n",
    "with open(\n",
    "        f'/home/aaron/Desktop/multiface/{subject}_GHS/geom/tracked_mesh/{facial}/{idx}.obj',\n",
    "        'r') as f:\n",
    "    total_lines = len(f.readlines())\n",
    "\n",
    "print(total_lines)\n",
    "txt = ''\n",
    "with open(\n",
    "        f'/home/aaron/Desktop/multiface/{subject}_GHS/geom/tracked_mesh/{facial}/{idx}.obj',\n",
    "        'r') as f:\n",
    "    for i in range(7306):\n",
    "        f.readline()\n",
    "        txt += f'v {verts[i][0]} {verts[i][1]} {verts[i][2]}\\n'\n",
    "    for _ in range(7306, total_lines):\n",
    "\n",
    "        txt += f.readline()\n",
    "\n",
    "with open('../test_data/test.obj', 'w') as w:\n",
    "    w.write(txt)"
   ]
  },
  {
   "cell_type": "code",
   "execution_count": null,
   "metadata": {},
   "outputs": [],
   "source": []
  }
 ],
 "metadata": {
  "kernelspec": {
   "display_name": "mp",
   "language": "python",
   "name": "python3"
  },
  "language_info": {
   "codemirror_mode": {
    "name": "ipython",
    "version": 3
   },
   "file_extension": ".py",
   "mimetype": "text/x-python",
   "name": "python",
   "nbconvert_exporter": "python",
   "pygments_lexer": "ipython3",
   "version": "3.10.9"
  },
  "orig_nbformat": 4
 },
 "nbformat": 4,
 "nbformat_minor": 2
}
