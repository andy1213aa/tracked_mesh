{
 "cells": [
  {
   "cell_type": "code",
   "execution_count": 10,
   "metadata": {},
   "outputs": [
    {
     "name": "stderr",
     "output_type": "stream",
     "text": [
      "  0%|          | 0/18 [00:00<?, ?it/s]/home/aaron/miniconda3/envs/mp/lib/python3.10/site-packages/pytorch3d/io/obj_io.py:544: UserWarning: No mtl file provided\n",
      "  warnings.warn(\"No mtl file provided\")\n",
      "100%|██████████| 18/18 [00:01<00:00, 11.43it/s]\n"
     ]
    }
   ],
   "source": [
    "from tqdm import tqdm\n",
    "import os\n",
    "import numpy as np\n",
    "from pytorch3d.io import load_objs_as_meshes\n",
    "from pathlib import Path\n",
    "import pickle\n",
    "data_pth = Path('/media/aaron/work/KIRI/ME_1015')\n",
    "mean_vert = np.zeros(21918,)\n",
    "\n",
    "def load_obj_vertex_data(obj_file_path):\n",
    "    # 使用 PyTorch3D 来加载 .obj 文件\n",
    "    meshes = load_objs_as_meshes([obj_file_path])\n",
    "    vertices = meshes.verts_packed().detach().cpu().numpy()\n",
    "    return vertices\n",
    "cnt = 0\n",
    "for category_folder in tqdm(os.listdir(str(data_pth))):\n",
    "    category_path = data_pth / category_folder\n",
    "    obj_file = category_path / 'model_align.obj'\n",
    "    obj = load_obj_vertex_data(obj_file).flatten()\n",
    "    mean_vert += obj\n",
    "    cnt += 1\n",
    "    \n",
    "mean_vert /= cnt"
   ]
  },
  {
   "cell_type": "code",
   "execution_count": 1,
   "metadata": {},
   "outputs": [],
   "source": [
    "\"\"\"Default Hyperparameter configuration\"\"\"\n",
    "\n",
    "import ml_collections\n",
    "\n",
    "\n",
    "def get_config():\n",
    "    \"\"\"Get the default Hypermarameter configuration\"\"\"\n",
    "    config = ml_collections.ConfigDict()\n",
    "    config.model = 'Classic_CNN'\n",
    "    config.dataset = 'multiface'\n",
    "    \n",
    "    config.data_size = 15250\n",
    "    config.image_size = (3024, 4032)\n",
    "    config.render_size = (512, 334)\n",
    "    config.texture_size = (1024, 1024)\n",
    "    \n",
    "    config.num_epochs = 2000\n",
    "    config.warmup_epochs = 1\n",
    "    config.batch_size = 16\n",
    "    config.steps_per_epoch = config.data_size // config.batch_size\n",
    "    config.learning_rate = 1e-3\n",
    "    config.log_every_steps = 10\n",
    "    config.vertex_num = 7306\n",
    "    config.num_train_steps = -1\n",
    "    config.kpt_num = 478\n",
    "    config.pca = '../training_data/pca_for_jax.pickle'\n",
    "    config.mean_mesh = '../training_data/mean_mesh_for_jax.pickle'\n",
    "    return config"
   ]
  },
  {
   "cell_type": "code",
   "execution_count": 2,
   "metadata": {},
   "outputs": [],
   "source": [
    "config=get_config()"
   ]
  },
  {
   "cell_type": "code",
   "execution_count": 3,
   "metadata": {},
   "outputs": [
    {
     "name": "stderr",
     "output_type": "stream",
     "text": [
      "2023-10-26 11:31:32.401523: I tensorflow/core/platform/cpu_feature_guard.cc:193] This TensorFlow binary is optimized with oneAPI Deep Neural Network Library (oneDNN) to use the following CPU instructions in performance-critical operations:  AVX2 AVX_VNNI FMA\n",
      "To enable them in other operations, rebuild TensorFlow with the appropriate compiler flags.\n",
      "2023-10-26 11:31:32.469388: I tensorflow/core/util/port.cc:104] oneDNN custom operations are on. You may see slightly different numerical results due to floating-point round-off errors from different computation orders. To turn them off, set the environment variable `TF_ENABLE_ONEDNN_OPTS=0`.\n",
      "2023-10-26 11:31:32.840224: W tensorflow/compiler/xla/stream_executor/platform/default/dso_loader.cc:64] Could not load dynamic library 'libnvinfer.so.7'; dlerror: libnvinfer.so.7: cannot open shared object file: No such file or directory; LD_LIBRARY_PATH: :/usr/local/cuda-11.8/lib64:/usr/local/cuda-11.8/extras/CUPTI/lib64\n",
      "2023-10-26 11:31:32.840269: W tensorflow/compiler/xla/stream_executor/platform/default/dso_loader.cc:64] Could not load dynamic library 'libnvinfer_plugin.so.7'; dlerror: libnvinfer_plugin.so.7: cannot open shared object file: No such file or directory; LD_LIBRARY_PATH: :/usr/local/cuda-11.8/lib64:/usr/local/cuda-11.8/extras/CUPTI/lib64\n",
      "2023-10-26 11:31:32.840271: W tensorflow/compiler/tf2tensorrt/utils/py_utils.cc:38] TF-TRT Warning: Cannot dlopen some TensorRT libraries. If you would like to use Nvidia GPU with TensorRT, please make sure the missing libraries mentioned above are installed properly.\n"
     ]
    }
   ],
   "source": [
    "import tensorflow as tf\n",
    "import numpy as np\n",
    "import ml_collections\n",
    "from absl import logging\n",
    "from pathlib import Path\n",
    "\n",
    "def readTFRECORD(tfrecord_pth: str,\n",
    "                 config: ml_collections.ConfigDict) -> tf.data:\n",
    "\n",
    "    global IMAGE_WIDTH, IMAGE_HEIGHT, NUM_VERTEX\n",
    "\n",
    "    AUTOTUNE = tf.data.experimental.AUTOTUNE\n",
    "    data_set = tf.data.TFRecordDataset(tfrecord_pth)\n",
    "\n",
    "\n",
    "    IMAGE_WIDTH = config.render_size[1]\n",
    "    IMAGE_HEIGHT = config.render_size[0]\n",
    "    NUM_VERTEX = config.vertex_num\n",
    "\n",
    "    data_set = (data_set\n",
    "            .shuffle(config.data_size, reshuffle_each_iteration=True, seed=42)\n",
    "            .map(parse, num_parallel_calls=AUTOTUNE)\n",
    "            .repeat()\n",
    "            .batch(config.batch_size, drop_remainder=True)\n",
    "            # .cache()\n",
    "            # .map(augment_using_ops,  num_parallel_calls=AUTOTUNE)\n",
    "            .prefetch(buffer_size=AUTOTUNE)\n",
    "        )\n",
    "\n",
    "\n",
    "    return data_set\n",
    "\n",
    "\n",
    "def augment_using_ops(batch):\n",
    "\n",
    "    # batch['img'] = tf.image.random_brightness(batch['img'], 0.2)\n",
    "    # batch['img'] = tf.keras.layers.RandomZoom(0.2)(batch['img'])\n",
    "    # batch['img'] = tf.keras.layers.RandomRotation(0.1)(batch['img'])\n",
    "    \n",
    "    # images = tf.image.rot90(images)\n",
    "    return batch\n",
    "\n",
    "\n",
    "def parse(example_proto):\n",
    "    features = tf.io.parse_single_example(\n",
    "        example_proto,\n",
    "        features={\n",
    "            'img': tf.io.FixedLenFeature([], tf.string),\n",
    "            'vtx': tf.io.FixedLenFeature([], tf.string),\n",
    "\n",
    "        })\n",
    "\n",
    "    img = features['img']\n",
    "    vtx = features['vtx']\n",
    "\n",
    "\n",
    "    img = tf.io.decode_raw(img, tf.uint8)\n",
    "    img = tf.cast(img, tf.float32)\n",
    "    vtx = tf.io.decode_raw(vtx, tf.float32)\n",
    "\n",
    "    img = tf.reshape(img, [IMAGE_HEIGHT, IMAGE_WIDTH, 3])\n",
    "    img = tf.image.rgb_to_grayscale(img)\n",
    "    # img = (img - image_mean) / image_std\n",
    "    img /= 255.\n",
    "    vtx = tf.reshape(vtx, [NUM_VERTEX*3])\n",
    "    return {\n",
    "        'img': img,\n",
    "        'vtx': vtx,\n",
    "\n",
    "    }\n"
   ]
  },
  {
   "cell_type": "code",
   "execution_count": 4,
   "metadata": {},
   "outputs": [
    {
     "name": "stderr",
     "output_type": "stream",
     "text": [
      "2023-10-26 11:32:05.830216: I tensorflow/compiler/xla/stream_executor/cuda/cuda_gpu_executor.cc:981] successful NUMA node read from SysFS had negative value (-1), but there must be at least one NUMA node, so returning NUMA node zero\n",
      "2023-10-26 11:32:05.830344: I tensorflow/compiler/xla/stream_executor/cuda/cuda_gpu_executor.cc:981] successful NUMA node read from SysFS had negative value (-1), but there must be at least one NUMA node, so returning NUMA node zero\n",
      "2023-10-26 11:32:05.845549: I tensorflow/compiler/xla/stream_executor/cuda/cuda_gpu_executor.cc:981] successful NUMA node read from SysFS had negative value (-1), but there must be at least one NUMA node, so returning NUMA node zero\n",
      "2023-10-26 11:32:05.845691: I tensorflow/compiler/xla/stream_executor/cuda/cuda_gpu_executor.cc:981] successful NUMA node read from SysFS had negative value (-1), but there must be at least one NUMA node, so returning NUMA node zero\n",
      "2023-10-26 11:32:05.845759: I tensorflow/compiler/xla/stream_executor/cuda/cuda_gpu_executor.cc:981] successful NUMA node read from SysFS had negative value (-1), but there must be at least one NUMA node, so returning NUMA node zero\n",
      "2023-10-26 11:32:05.845818: I tensorflow/compiler/xla/stream_executor/cuda/cuda_gpu_executor.cc:981] successful NUMA node read from SysFS had negative value (-1), but there must be at least one NUMA node, so returning NUMA node zero\n",
      "2023-10-26 11:32:05.960583: I tensorflow/compiler/xla/stream_executor/cuda/cuda_gpu_executor.cc:981] successful NUMA node read from SysFS had negative value (-1), but there must be at least one NUMA node, so returning NUMA node zero\n",
      "2023-10-26 11:32:05.960770: I tensorflow/compiler/xla/stream_executor/cuda/cuda_gpu_executor.cc:981] successful NUMA node read from SysFS had negative value (-1), but there must be at least one NUMA node, so returning NUMA node zero\n",
      "2023-10-26 11:32:05.960840: I tensorflow/compiler/xla/stream_executor/cuda/cuda_gpu_executor.cc:981] successful NUMA node read from SysFS had negative value (-1), but there must be at least one NUMA node, so returning NUMA node zero\n",
      "2023-10-26 11:32:05.960898: I tensorflow/compiler/xla/stream_executor/cuda/cuda_gpu_executor.cc:981] successful NUMA node read from SysFS had negative value (-1), but there must be at least one NUMA node, so returning NUMA node zero\n",
      "2023-10-26 11:32:05.960953: I tensorflow/compiler/xla/stream_executor/cuda/cuda_gpu_executor.cc:981] successful NUMA node read from SysFS had negative value (-1), but there must be at least one NUMA node, so returning NUMA node zero\n",
      "2023-10-26 11:32:05.961009: I tensorflow/compiler/xla/stream_executor/cuda/cuda_gpu_executor.cc:981] successful NUMA node read from SysFS had negative value (-1), but there must be at least one NUMA node, so returning NUMA node zero\n",
      "2023-10-26 11:32:06.654934: I tensorflow/compiler/xla/stream_executor/cuda/cuda_gpu_executor.cc:981] successful NUMA node read from SysFS had negative value (-1), but there must be at least one NUMA node, so returning NUMA node zero\n",
      "2023-10-26 11:32:06.655069: I tensorflow/compiler/xla/stream_executor/cuda/cuda_gpu_executor.cc:981] successful NUMA node read from SysFS had negative value (-1), but there must be at least one NUMA node, so returning NUMA node zero\n",
      "2023-10-26 11:32:06.655153: I tensorflow/compiler/xla/stream_executor/cuda/cuda_gpu_executor.cc:981] successful NUMA node read from SysFS had negative value (-1), but there must be at least one NUMA node, so returning NUMA node zero\n",
      "2023-10-26 11:32:06.655215: I tensorflow/compiler/xla/stream_executor/cuda/cuda_gpu_executor.cc:981] successful NUMA node read from SysFS had negative value (-1), but there must be at least one NUMA node, so returning NUMA node zero\n",
      "2023-10-26 11:32:06.655272: I tensorflow/compiler/xla/stream_executor/cuda/cuda_gpu_executor.cc:981] successful NUMA node read from SysFS had negative value (-1), but there must be at least one NUMA node, so returning NUMA node zero\n",
      "2023-10-26 11:32:06.655340: I tensorflow/core/common_runtime/gpu/gpu_device.cc:1613] Created device /job:localhost/replica:0/task:0/device:GPU:0 with 5484 MB memory:  -> device: 0, name: NVIDIA GeForce RTX 3070 Ti, pci bus id: 0000:01:00.0, compute capability: 8.6\n",
      "2023-10-26 11:32:06.655567: I tensorflow/compiler/xla/stream_executor/cuda/cuda_gpu_executor.cc:981] successful NUMA node read from SysFS had negative value (-1), but there must be at least one NUMA node, so returning NUMA node zero\n",
      "2023-10-26 11:32:06.655714: I tensorflow/core/common_runtime/gpu/gpu_device.cc:1613] Created device /job:localhost/replica:0/task:0/device:GPU:1 with 5970 MB memory:  -> device: 1, name: NVIDIA GeForce RTX 3070 Ti, pci bus id: 0000:08:00.0, compute capability: 8.6\n"
     ]
    },
    {
     "data": {
      "text/plain": [
       "<PrefetchDataset element_spec={'img': TensorSpec(shape=(16, 512, 334, 1), dtype=tf.float32, name=None), 'vtx': TensorSpec(shape=(16, 21918), dtype=tf.float32, name=None)}>"
      ]
     },
     "execution_count": 4,
     "metadata": {},
     "output_type": "execute_result"
    }
   ],
   "source": [
    "readTFRECORD(tfrecord_pth='/media/aaron/work/ITRI_SSTC/S100/FY112_FRP/code/FRP/training_data/1015_18pose_664nums.tfrecord', config=config)"
   ]
  },
  {
   "cell_type": "code",
   "execution_count": null,
   "metadata": {},
   "outputs": [],
   "source": []
  }
 ],
 "metadata": {
  "kernelspec": {
   "display_name": "Python 3 (ipykernel)",
   "language": "python",
   "name": "python3"
  },
  "language_info": {
   "codemirror_mode": {
    "name": "ipython",
    "version": 3
   },
   "file_extension": ".py",
   "mimetype": "text/x-python",
   "name": "python",
   "nbconvert_exporter": "python",
   "pygments_lexer": "ipython3",
   "version": "3.10.9"
  },
  "vscode": {
   "interpreter": {
    "hash": "7dcbfcb1d4d83ea08d125928cdb18da55676c34459c9cee50303e942e700cad0"
   }
  }
 },
 "nbformat": 4,
 "nbformat_minor": 2
}
