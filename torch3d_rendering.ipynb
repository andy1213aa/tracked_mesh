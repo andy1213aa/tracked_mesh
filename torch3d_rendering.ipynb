{
 "cells": [
  {
   "cell_type": "code",
   "execution_count": 48,
   "metadata": {},
   "outputs": [],
   "source": [
    "import torch\n",
    "import numpy as np\n",
    "from pytorch3d.renderer import (\n",
    "    look_at_view_transform,\n",
    "    TexturesUV,\n",
    "    FoVPerspectiveCameras,\n",
    "    PointLights,\n",
    "    MeshRenderer,\n",
    "    RasterizationSettings,\n",
    "    MeshRasterizer,\n",
    "    SoftPhongShader,\n",
    "    BlendParams,\n",
    "    Textures,\n",
    "    PerspectiveCameras\n",
    "\n",
    ")\n",
    "import cv2\n",
    "import matplotlib.pyplot as plt\n",
    "from pytorch3d.structures import Meshes\n",
    "from PIL import Image\n",
    "from pytorch3d.io import load_objs_as_meshes, load_obj"
   ]
  },
  {
   "cell_type": "code",
   "execution_count": 49,
   "metadata": {},
   "outputs": [
    {
     "name": "stderr",
     "output_type": "stream",
     "text": [
      "/home/aaron/miniconda3/envs/mp/lib/python3.10/site-packages/pytorch3d/io/obj_io.py:544: UserWarning: No mtl file provided\n",
      "  warnings.warn(\"No mtl file provided\")\n"
     ]
    }
   ],
   "source": [
    "device='cuda:0'\n",
    "fx = 2892.07091\n",
    "fy = 2895.418\n",
    "cx = 2003.92607\n",
    "cy = 1454.19411\n",
    "\n",
    "verts, faces, aux = load_obj('/media/aaron/work/KIRI/ME_1015/P22_MOUTH_WIDE_OPEN/model_align.obj')\n",
    "img = cv2.imread('/media/aaron/work/KIRI/ME_1015/P22_MOUTH_WIDE_OPEN/images/0050.png')\n",
    "verts_uvs = aux.verts_uvs[None, ...]  # (1, V, 2)\n",
    "faces_uvs = faces.textures_idx[None, ...]  # (1, F, 3)\n",
    "\n",
    "texture_image = Image.open('/media/aaron/work/KIRI/ME_1015/P22_MOUTH_WIDE_OPEN/texture.jpg')\n",
    "texture_image = texture_image.transpose(Image.FLIP_TOP_BOTTOM)\n",
    "texture_image = np.array(texture_image)[::-1, :, :].copy()\n",
    "texture_image = torch.from_numpy(texture_image).float() / 255.0\n",
    "texture_image = texture_image.reshape((1, 4096, 4096, 3))\n",
    "\n",
    "tex = Textures(verts_uvs=verts_uvs, faces_uvs=faces_uvs, maps=texture_image)\n",
    "\n"
   ]
  },
  {
   "cell_type": "code",
   "execution_count": 50,
   "metadata": {},
   "outputs": [
    {
     "name": "stderr",
     "output_type": "stream",
     "text": [
      "W0000 00:00:1698918086.488784  211298 face_landmarker_graph.cc:169] Sets FaceBlendshapesGraph acceleration to xnnpack by default.\n"
     ]
    },
    {
     "name": "stdout",
     "output_type": "stream",
     "text": [
      "Rotation Vector:\n",
      " [[ 0.14004433  0.05875766  0.98840029]\n",
      " [ 0.01269366 -0.99826219  0.05754538]\n",
      " [ 0.99006386  0.00448752 -0.14054681]]\n",
      "Translation Vector:\n",
      " [[-1.50322224  2.94552578  8.23917894]]\n"
     ]
    }
   ],
   "source": [
    "import numpy as np\n",
    "import cv2\n",
    "import mediapipe as mp\n",
    "from mediapipe.tasks import python\n",
    "from mediapipe.tasks.python import vision\n",
    "import matplotlib.pyplot as plt\n",
    "from pytorch3d.io import load_objs_as_meshes, load_obj\n",
    "import math\n",
    "\n",
    "\n",
    "camera_matrix = np.array([[fx, 0.00000000e+00, cx],\n",
    "       [0.00000000e+00, fy, cy],\n",
    "       [0.00000000e+00, 0.00000000e+00, 1.00000000e+00]], dtype = \"double\")\n",
    "\n",
    "# 扭曲係數\n",
    "\n",
    "dist_coeffs = np.zeros((4,1)) # 假設沒有鏡頭的成像扭曲 (no lens distortion)\n",
    "\n",
    "class FaceMesh():\n",
    "\n",
    "    def __init__(self, batch_size=1, kpt_num=478):\n",
    "\n",
    "        base_options = python.BaseOptions(model_asset_path='face_landmarker.task')\n",
    "        options = vision.FaceLandmarkerOptions(base_options=base_options,\n",
    "                                       output_face_blendshapes=False,\n",
    "                                       output_facial_transformation_matrixes=True,\n",
    "                                       num_faces=1)\n",
    "        self.detector = vision.FaceLandmarker.create_from_options(options)\n",
    "        self.kpt_num = kpt_num\n",
    "        self.batch_size = batch_size\n",
    "        self.error_idx = 0\n",
    "\n",
    "        # self.features_idx = [130, 133, 362, 359, 6, 195, 4, 61, 291]\n",
    "        self.features_idx = [33, 263, 1, 61, 291, 199]\n",
    "\n",
    "    def detect(\n",
    "        self,\n",
    "        img,\n",
    "        type=None,\n",
    "        exp=None,\n",
    "        camID=None,\n",
    "    ):\n",
    "        features = np.zeros((len(self.features_idx), 2))\n",
    "        # Convert the BGR image to RGB before processing.\n",
    "        tmp_kpt = np.zeros((self.kpt_num, 2))\n",
    "        img = mp.Image(image_format=mp.ImageFormat.SRGB, data=img)\n",
    "        results = self.detector.detect(img)\n",
    "        for face_landmark in results.face_landmarks:\n",
    "            for idx, data_point in enumerate(face_landmark):\n",
    "                tmp_kpt[idx, 0] = data_point.x * img.width\n",
    "                tmp_kpt[idx, 1] = data_point.y * img.height\n",
    "\n",
    "        for idx, feat in enumerate(self.features_idx):\n",
    "            features[idx] = tmp_kpt[feat]\n",
    "                \n",
    "        return features\n",
    "    \n",
    "mp_detect = FaceMesh()\n",
    "c_verts, _, _ = load_obj('canonical_face_model.obj')\n",
    "mp_point6  = [{\"x\":-0.9396189451217651,\"y\":1.2564451694488525,\"z\":-0.9755242466926575},{\"x\":-0.8838400840759277,\"y\":1.3033815622329712,\"z\":0.3997921943664551},{\"x\":-1.5201283693313599,\"y\":0.7055310606956482,\"z\":-0.24243663251399994},{\"x\":-0.9436807036399841,\"y\":0.17162324488162994,\"z\":-0.6040045619010925},{\"x\":-0.9147692918777466,\"y\":0.1978173404932022,\"z\":0.10889999568462372},{\"x\":-0.9223588705062866,\"y\":-0.5101673603057861,\"z\":-0.21605277061462402}]\n",
    "mp_point6 = np.array([[point3d['x'],point3d['y'],point3d['z']] for point3d in mp_point6])\n",
    "#Read 2D image\n",
    "\n",
    "kpts = mp_detect.detect(img)\n",
    "for i, kpt in enumerate(kpts):\n",
    "    kpt = kpt.astype(np.int32)\n",
    "    cv2.circle(img, (kpt[0], kpt[1]), 10, (255, 0, 0), -1)\n",
    "    cv2.putText(img, str(i), (kpt[0], kpt[1]),cv2.FONT_HERSHEY_SIMPLEX,\n",
    "  2, (0, 255, 255), 1, cv2.LINE_AA)\n",
    "cv2.namedWindow('test', cv2.WINDOW_NORMAL)\n",
    "cv2.imshow('test', cv2.resize(img, (1512, 2016)))\n",
    "key = cv2.waitKey(0)\n",
    "if key ==27:\n",
    "    cv2.destroyAllWindows()\n",
    "# 使用OpenCV的solvePnP函數來計算人臉的旋轉與位移\n",
    "#(success, rotation_vector, translation_vector) = cv2.solvePnP(model_points, image_points, camera_matrix\n",
    "#                                                              , dist_coeffs, flags=cv2.CV_ITERATIVE)\n",
    "# 參數:\n",
    "#   model_points 3維模型的座標點\n",
    "#   image_points 2維圖像的座標點\n",
    "#   camera_matrix 照像機矩陣\n",
    "#   dist_coeffs 照像機扭曲係數\n",
    "#   flags: cv2.SOLVEPNP_ITERATIVE\n",
    "model_points=mp_point6\n",
    "face_points = kpts\n",
    "\n",
    "(success, rotation_vector, translation_vector) = cv2.solvePnP(model_points, face_points, camera_matrix\n",
    "                                                              , dist_coeffs, useExtrinsicGuess = False, flags=cv2.SOLVEPNP_ITERATIVE)\n",
    "\n",
    "R = cv2.Rodrigues(rotation_vector)[0]\n",
    "t = translation_vector.T\n",
    "\n",
    "\n",
    "print(\"Rotation Vector:\\n {0}\".format(R)) # 旋轉向量\n",
    "print(\"Translation Vector:\\n {0}\".format(t)) # 位移向量"
   ]
  },
  {
   "cell_type": "code",
   "execution_count": 51,
   "metadata": {},
   "outputs": [],
   "source": [
    "verts = torch.tensor(((R@verts.numpy().T).T+t), dtype=torch.float32)\n"
   ]
  },
  {
   "cell_type": "code",
   "execution_count": 52,
   "metadata": {},
   "outputs": [],
   "source": [
    "#讀進所有的v, vt, f\n",
    "total_lines = 0\n",
    "with open(\n",
    "        f'/media/aaron/work/KIRI/ME_1015/P11_MOUTH_RIGHT/model_align.obj',\n",
    "        'r') as f:\n",
    "    total_lines = len(f.readlines())\n",
    "\n",
    "txt = ''\n",
    "#只改v，其他不因obj不同而改變\n",
    "with open(\n",
    "        f'/media/aaron/work/KIRI/ME_1015/P11_MOUTH_RIGHT/model_align.obj',\n",
    "        'r') as f:\n",
    "    for i in range(7306):\n",
    "        f.readline()\n",
    "        txt += f'v {verts[i][0]} {verts[i][1]} {verts[i][2]}\\n'\n",
    "    for _ in range(7306, total_lines):\n",
    "\n",
    "        txt += f.readline()\n",
    "# with open('../test_data/test.obj', 'w') as w:\n",
    "\n",
    "with open(f'test.obj', 'w') as w:\n",
    "    w.write(txt)"
   ]
  },
  {
   "cell_type": "code",
   "execution_count": 53,
   "metadata": {},
   "outputs": [],
   "source": [
    "meshes = Meshes(verts=[verts.to(device)], faces=[faces.verts_idx.to(device)], textures=tex.to(device))"
   ]
  },
  {
   "cell_type": "code",
   "execution_count": 54,
   "metadata": {},
   "outputs": [],
   "source": [
    "focal = torch.tensor([fx, fy], dtype=torch.float32).to(device).unsqueeze(0)\n",
    "princpt = torch.tensor([cx, cy], dtype=torch.float32).to(device).unsqueeze(0)\n",
    "cameras = PerspectiveCameras(device=device, focal_length=-focal, principal_point=princpt, in_ndc=False, image_size=((4032, 3024),))"
   ]
  },
  {
   "cell_type": "code",
   "execution_count": 55,
   "metadata": {},
   "outputs": [],
   "source": [
    "raster_settings = RasterizationSettings(\n",
    "            image_size=[4032, 3024],\n",
    "            blur_radius=0.0,\n",
    "            faces_per_pixel=1,\n",
    "            bin_size=0\n",
    "        )\n",
    "lights = PointLights(device=device, location=[[0.0, 1.0, -10.0]])\n"
   ]
  },
  {
   "cell_type": "code",
   "execution_count": 56,
   "metadata": {},
   "outputs": [
    {
     "data": {
      "image/png": "[encoded data removed]",
      "text/plain": [
       "<Figure size 640x480 with 1 Axes>"
      ]
     },
     "metadata": {},
     "output_type": "display_data"
    }
   ],
   "source": [
    "with torch.no_grad():\n",
    "    renderer = MeshRenderer(\n",
    "        rasterizer=MeshRasterizer(\n",
    "            cameras=cameras,\n",
    "            raster_settings=raster_settings\n",
    "        ),\n",
    "        shader=SoftPhongShader(\n",
    "            device=device,\n",
    "            cameras=cameras,\n",
    "            lights=lights\n",
    "        )\n",
    "    )\n",
    "    images = renderer(meshes, znear=0.0, zfar=1000.0)\n",
    "    img = 255*images.cpu().contiguous().numpy()\n",
    "\n",
    "    \n",
    "    img = img.astype('uint8')\n",
    "    img = img[0, :, :, :3]\n",
    "    # cv2.imwrite(f'../test_data/img-{index+1}.png',cv2.cvtColor(img, cv2.COLOR_BGR2RGB))\n",
    "    # img = cv2.rotate(img, cv2.ROTATE_180)\n",
    "    cv2.imwrite('test.png', img)\n",
    "    plt.imshow(img)"
   ]
  }
 ],
 "metadata": {
  "kernelspec": {
   "display_name": "Python 3.9.18 ('auto3d')",
   "language": "python",
   "name": "python3"
  },
  "language_info": {
   "codemirror_mode": {
    "name": "ipython",
    "version": 3
   },
   "file_extension": ".py",
   "mimetype": "text/x-python",
   "name": "python",
   "nbconvert_exporter": "python",
   "pygments_lexer": "ipython3",
   "version": "3.10.9"
  },
  "orig_nbformat": 4,
  "vscode": {
   "interpreter": {
    "hash": "7dcbfcb1d4d83ea08d125928cdb18da55676c34459c9cee50303e942e700cad0"
   }
  }
 },
 "nbformat": 4,
 "nbformat_minor": 2
}
